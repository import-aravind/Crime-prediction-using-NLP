{
 "cells": [
  {
   "cell_type": "code",
   "execution_count": 1,
   "metadata": {},
   "outputs": [],
   "source": [
    "import gmaps\n"
   ]
  },
  {
   "cell_type": "code",
   "execution_count": 5,
   "metadata": {},
   "outputs": [
    {
     "data": {
      "application/vnd.jupyter.widget-view+json": {
       "model_id": "1afae68109044cdf879331e3b531ef40",
       "version_major": 2,
       "version_minor": 0
      },
      "text/plain": [
       "Figure(layout=FigureLayout(height='420px'))"
      ]
     },
     "metadata": {},
     "output_type": "display_data"
    }
   ],
   "source": [
    "import gmaps\n",
    "gmaps.configure(api_key='')\n",
    "criminal_data = [\n",
    "{'Criminal': 'Hemanth kumar nath', 'location': (26.14,91.73),'Type_of_crime':'Murder', 'Link': 'https://www.indiatoday.in/india/story/assam-villagers-beat-tribal-man-death-witchcraft-1806531-2021-05-25'},\n",
    "{'Criminal': 'Hoti lal', 'location': (28.70,77.10),'Type_of_crime':'Murder', 'Link': 'https://www.indiatvnews.com/crime/man-thrashed-to-death-for-trying-to-steal-water-motor-in-delhi-705127'},\n",
    "{'Criminal': 'Vikas Dubey', 'location': (26.44,80.33),'Type_of_crime':'Gangster', 'Link': 'https://www.indiatoday.in/india/story/who-is-vikas-dubey-all-you-need-to-know-about-kanpur-gangster-1698602-2020-07-09'},\n",
    "{'Criminal': 'Vikrant vir', 'location': (27.89,78.08),'Type_of_crime':'Rape', 'Link': 'https://www.indiatoday.in/crime/story/up-gang-raped-strangled-19-year-old-battles-for-life-in-hathras-1725763-2020-09-26'},\n",
    "{'Criminal': 'Nilesh', 'location': (19.07,72.87),'Type_of_crime':'Fraud', 'Link': 'https://www.indiatoday.in/india/story/palghar-lynching-case-maharashtra-1669461-2020-04-21'},\n",
    "{'Criminal': 'Balakrishnan SI ', 'location': (8.44,77.10),'Type_of_crime':'Murder', 'Link': 'https://www.indiatoday.in/india/story/tuticorin-custodial-deaths-father-son-jayaraj-benniks-brutally-tortured-blood-walls-cbi-forensic-report-1735390-2020-10-27'},\n",
    "{'Criminal': 'Tausif', 'location': (28.40,77.31),'Type_of_crime':'Murder', 'Link': 'https://www.indiatoday.in/india/story/faridabad-murder-21-year-old-love-jihad-accused-arrested-nikita-1735522-2020-10-27'},\n",
    "{'Criminal': 'Mandvi Hitma', 'location': (21.25,81.86),'Type_of_crime':'Murder', 'Link': 'https://www.asianage.com/india/crime/130421/mastermind-behind-brutal-killing-of-22-crpf-commandos-traced-to-andhra-pradesh-jungles.html'},\n",
    "{'Criminal': 'Sushil Kumar', 'location': (28.61,77.20),'Type_of_crime':'Murder', 'Link': 'https://www.asianage.com/sports/in-other-sports/230521/two-time-olympic-medallist-sushil-kumar-arrested-in-chhatrasal-murder-case.html'},\n",
    "{'Criminal': 'Zahoor ahmeed mir', 'location': (33.27,75.34),'Type_of_crime':'Rape', 'Link': 'https://www.asianage.com/india/crime/130421/mastermind-behind-brutal-killing-of-22-crpf-commandos-traced-to-andhra-pradesh-jungles.html'},\n",
    "{'Criminal': 'Narayana Reddy', 'location': (16.50,80.64),'Type_of_crime':'Harassment', 'Link': 'https://www.deccanchronicle.com/nation/crime/250521/caste-clashes-erupts-after-youth-elopes-with-girl.html'},\n",
    "{'Criminal': 'Sharadha group', 'location': (28.61,77.20),'Type_of_crime':'Fraud', 'Link': 'https://www.asianage.com/india/crime/040421/ed-attaches-assets-of-tmc-leaders-in-saradha-case.html'},\n",
    "{'Criminal': 'Ajaz Khan', 'location': (19.07,72.87),'Type_of_crime':'Drugs', 'Link': 'https://www.asianage.com/india/crime/310321/ncb-arrests-actor-ajaz-khan-in-drugs-case.html'},\n",
    "{'Criminal': 'Sheikshwali', 'location': (14.68,77.60),'Type_of_crime':'Fraud', 'Link': 'https://www.deccanchronicle.com/nation/crime/230521/private-hospital-staff-arrested-in-ap-for-sale-of-remdesivir-in-black.html'},\n",
    "{'Criminal': 'Mohar singh', 'location': (28.07,79.58),'Type_of_crime':'Murder', 'Link': 'https://www.indiatoday.in/crime/story/village-head-shot-dead-in-up-s-bareilly-1805079-2021-05-21'},\n",
    "{'Criminal': 'Ganesh Dekate', 'location': (25.94,83.36),'Type_of_crime':'Murder', 'Link': 'https://www.indiatoday.in/crime/story/2-nagpur-men-held-for-stealing-phones-jewellery-from-covid-bodies-1804226-2021-05-19'},\n",
    "{'Criminal': 'Fariya', 'location': (26.91,75.78),'Type_of_crime':'Murder', 'Link': 'https://www.indiatoday.in/cities/jaipur/story/jaipur-woman-brother-law-death-argument-wife-1802097-2021-05-13'},\n",
    "{'Criminal': 'Harikrishnan', 'location': (20.29, 85.82),'Type_of_crime':'Murder', 'Link': 'https://www.indiatoday.in/crime/story/madurai-lawyer-suicide-missing-yoga-teacher-dead-1798993-2021-05-05'},\n",
    "{'Criminal': 'Waseem', 'location': (28.61,77.20),'Type_of_crime':'Murder', 'Link': 'https://www.indiatoday.in/cities/delhi/story/eight-month-pregnant-drug-queen-shot-by-husband-cctv-captures-1795759-2021-04-28'},\n",
    "{'Criminal': 'Shaji peter', 'location': (8.89,76.61),'Type_of_crime':'Murder', 'Link': 'https://www.indiatoday.in/crime/story/drishyam-style-murder-man-killed-brother-buried-backyard-kerala-1793659-2021-04-22'},\n",
    "{'Criminal': 'Sanu Mohan', 'location': (9.98,76.29),'Type_of_crime':'Rape', 'Link': 'https://www.indiatoday.in/crime/story/kerala-father-murders-daughter-financial-crisis-1792949-2021-04-20'},\n",
    "{'Criminal': 'Adil ahmed dar', 'location': (33.27,75.34),'Type_of_crime':'Terrorism', 'Link': 'https://www.indiatoday.in/crime/story/j-k-police-arrests-let-militant-associates-budgam-1792185-2021-04-18'},\n",
    "{'Criminal': 'Chinraj', 'location': (11.21,78.16),'Type_of_crime':'Rape', 'Link': 'https://www.indiatoday.in/crime/story/14-year-old-girl-raped-months-brother-in-law-friends-employer-tamil-nadu-1790883-2021-04-14'},\n",
    "{'Criminal': 'Harish', 'location': (28.61,77.20),'Type_of_crime':'Rape', 'Link': 'https://www.indiatoday.in/cities/delhi/story/delhi-rohini-murder-video-pictures-caught-on-camera-man-stabs-wife-1789563-2021-04-10'},\n",
    "{'Criminal': 'Santoshi Thakur', 'location': (28.79,77.13),'Type_of_crime':'Murder', 'Link': 'https://www.indiatoday.in/cities/patna/story/bihar-stepfather-kills-minor-girl-for-talking-to-lover-body-recovered-from-patna-river-1785999-2021-04-01'},\n",
    "{'Criminal': 'Arjun mahji', 'location': (20.29,85.01),'Type_of_crime':'Murder', 'Link': 'https://www.indiatoday.in/crime/story/odisha-man-cousin-chop-body-pieces-dump-river-arrested-1779962-2021-03-16'},\n",
    "{'Criminal': 'Rajat', 'location': (20.18,73.01),'Type_of_crime':'Murder', 'Link':'https://www.indiatoday.in/crime/story/dadra-and-nagar-haveli-man-kills-4-year-old-for-resisting-rape-victim-s-father-commits-suicide-1779063-2021-03-14'},\n",
    "{'Criminal': 'Anantram rajjak', 'location': (21.14,79.08),'Type_of_crime':'Murder', 'Link': 'https://www.indiatoday.in/crime/story/couple-auto-driver-maharashtra-nagpur-1778758-2021-03-13'},\n",
    "{'Criminal': 'Swati Lakshman Malik', 'location': (21.14,79.08),'Type_of_crime':'Murder', 'Link': 'https://www.indiatoday.in/crime/story/nagpur-woman-kills-husband-four-wives-arrested-1778344-2021-03-12'},\n",
    "{'Criminal': 'Govind', 'location': (27.17,78.00),'Type_of_crime':'Murder', 'Link': 'https://www.indiatoday.in/cities/agra/story/agra-police-solves-double-murder-20-year-old-arrested-for-stabbing-girl-her-mother-1777431-2021-03-09'},\n",
    "{'Criminal': 'Dhoba', 'location': (19.31,84.79),'Type_of_crime':'Murder', 'Link': 'https://www.asianage.com/india/crime/111020/odisha-son-slits-fathers-throat-after-argument-over-money.html'},\n",
    "{'Criminal': 'Nikhil', 'location': (17.38,78.48),'Type_of_crime':'Harrasment', 'Link': 'https://www.deccanchronicle.com/nation/crime/110321/man-booked-for-sexually-assaulting-relative-in-hyderabad.html'},\n",
    "{'Criminal': 'Ramulu', 'location': (17.38,78.48),'Type_of_crime':'Murder', 'Link': 'https://www.deccanchronicle.com/nation/crime/260121/man-who-killed-16-women-in-past-years-and-out-on-bail-arrested-for-two.html'},\n",
    "{'Criminal': 'Muhammad Kaif', 'location': (34.50,74.68),'Type_of_crime':'Many crimes', 'Link': 'https://www.greaterkashmir.com/news/jammu/2-bandipora-youth-arrested-in-atm-guards-murder-case/'},\n",
    "{'Criminal': 'Wakas bashir lone', 'location': (34.08,77.79),'Type_of_crime':'Many crimes', 'Link': 'https://www.greaterkashmir.com/news/srinagar/police-crack-highway-robbery-case/'},\n",
    "{'Criminal': 'Jai Kishan ', 'location': (28.61,77.20),'Type_of_crime':'Fraud', 'Link': 'https://www.thehindu.com/news/cities/Delhi/police-arrest-man-over-oxygen-cylinder-scam/article34574298.ece'},\n",
    "{'Criminal': 'Yashoda ', 'location': (10.79,78.70),'Type_of_crime':'Murder', 'Link': 'https://www.thehindu.com/news/cities/bangalore/domestic-help-arrested-for-getting-her-alcoholic-husband-killed/article34582075.ece'},\n",
    "{'Criminal': 'Amarnath ', 'location': (10.79,77.10),'Type_of_crime':'cyber crime', 'Link': 'https://www.thehindu.com/news/cities/chennai/adyar-cyber-crime-cell-bust-loan-fraud-racket-operating-out-of-tiruchi/article34561484.ece'},\n",
    "{'Criminal': 'Chinnapaga nagamma', 'location': (18.11,79.01),'Type_of_crime':'Murder', 'Link': 'https://www.thehindu.com/todays-paper/tp-national/tp-telangana/woman-kills-alcoholic-son/article34630513.ece'},\n",
    "{'Criminal': 'Pravin dilip shinde', 'location': (18.52,73.85),'Type_of_crime':'Smuggle', 'Link': 'https://www.hindustantimes.com/cities/pune-news/27yearold-arrested-for-illegal-sale-of-deer-horns-101621696677887.html'},\n",
    "{'Criminal': 'Kamal nayan', 'location': (25.10,85.31),'Type_of_crime':'Murder', 'Link': 'https://www.hindustantimes.com/cities/patna-news/father-kills-2-minors-after-quarrel-with-mother-in-rural-patna-101621592149088.html'},\n",
    "{'Criminal': 'Christopher diaz', 'location': (19.07,72.87),'Type_of_crime':'Murder', 'Link': 'https://indianexpress.com/article/cities/mumbai/mumbai-man-chops-off-grandmothers-head-in-her-bandra-home-6728082/'},\n",
    "{'Criminal': 'Ashfaq rehman', 'location': (30.73,76.77),'Type_of_crime':'Drugs', 'Link': 'https://indianexpress.com/article/cities/chandigarh/chennai-man-held-for-trying-to-ship-10-2-kg-cocaine-to-sydney-7314425/'},\n",
    "{'Criminal': 'Afsar aslam ali', 'location': (18.52,73.85),'Type_of_crime':'Murder', 'Link': 'https://indianexpress.com/article/cities/pune/pune-elderly-woman-found-murdered-teenager-arrested-7307460/'},\n",
    "{'Criminal': 'Hemraj bharadwaj', 'location': (31.10,77.17),'Type_of_crime':'Drugs', 'Link': 'https://indianexpress.com/article/india/goa-cops-arrest-man-who-escaped-from-colvale-central-jail-in-august-last-year-7298337/'},\n",
    "{'Criminal': 'Prince aron golden', 'location': (15.29,74.12),'Type_of_crime':'Murder', 'Link': 'https://indianexpress.com/article/cities/goa/man-arrested-for-sexually-harassing-minor-in-shelter-home-in-goa-7326081/'},\n",
    "{'Criminal': 'Kesh kumari', 'location': (26.84,80.94),'Type_of_crime':'Murder', 'Link': 'https://www.ndtv.com/cities/up-woman-allegedly-kills-3-year-old-son-after-fight-with-husband-on-holi-2402236'},\n",
    "{'Criminal': 'Ravi pujari ', 'location': (9.93,76.26),'Type_of_crime':'Gangster', 'Link': 'https://www.newindianexpress.com/states/kerala/2021/feb/20/parlour-shooting-crime-branch-records-arrest-of-ravi-pujari-2266338.html'},\n",
    "{'Criminal': 'Ashok kumar mehta', 'location': (23.34, 85.30),'Type_of_crime':'Murder', 'Link': 'https://www.telegraphindia.com/jharkhand/police-crack-hazaribagh-murder-case-in-three-days/cid/1801067'},\n",
    "{'Criminal': 'Mohammed Afsar', 'location': (28.53,77.39),'Type_of_crime':'Extorsion', 'Link':'https://www.timesnownews.com/delhi/article/noida-two-men-pose-as-delhi-police-personnel-extort-money-from-motorists-on-pretext-of-violations/761967'},\n",
    "{'Criminal': 'Appala raju', 'location': (17.68,83.21),'Type_of_crime':'Murder', 'Link':'https://www.ndtv.com/andhra-pradesh-news/andhra-man-hacks-6-including-infant-to-death-allegedly-over-family-dispute-report-2414707'},\n",
    "{'Criminal': 'Rajan rawool', 'location': (19.0, 72.8),'Type_of_crime':'Extorsiom', 'Link':'https://www.timesnownews.com/mumbai/article/mumbai-accountant-diverts-rs-5-crore-funds-from-medical-trust-for-last-10-years-nabbed/760803'},\n",
    "{'Criminal': 'Manoj', 'location': (17.68,77.3),'Type_of_crime':'Kidnapping', 'Link':'https://www.timesnownews.com/delhi/article/11-year-old-boy-lured-on-pretext-of-playing-video-game-gets-kidnapped-murdered-by-uncle-noida-uttar-pradesh/756984'},\n",
    "{'Criminal': 'Manikandam', 'location': (19.0760,72.8777),'Type_of_crime':'Theft', 'Link':'https://www.timesnownews.com/mumbai/article/mumbai-local-gangster-disguises-himself-as-woman-to-go-unnoticed-after-crime-nabbed/754436'},\n",
    "{'Criminal': 'Sanjog koli', 'location': (19.0765,72.877),'Type_of_crime':'Harassment', 'Link':'https://www.timesnownews.com/mumbai/article/mumbai-woman-sexually-harassed-by-serial-molester-in-juhu-accused-held-after-being-tracked-by-cctv/753437'},\n",
    "{'Criminal': 'Devesh chourasia', 'location': (19.07654,72.8779),'Type_of_crime':'Drugs', 'Link':'https://timesofindia.indiatimes.com/city/indore/fake-remdesivir-sale-hospital-owner-three-others-booked-in-madhya-pradesh/articleshow/82539621.cms'},\n",
    "{'Criminal': 'Shivkumar shankar', 'location': (19.0769,72.879),'Type_of_crime':'Smuggle', 'Link':'https://timesofindia.indiatimes.com/city/mumbai/man-held-with-ganja-worth-over-rs-8-lakh-in-mumbai/articleshow/82479095.cms'},\n",
    "{'Criminal': 'Deepali Mhatre', 'location': (19.24,72.93),'Type_of_crime':'Theft', 'Link':'https://timesofindia.indiatimes.com/city/mumbai/covid-con-1-held-for-rs-5-lakh-gold-robbery-in-mumbai/articleshow/82893400.cms'},\n",
    "{'Criminal': 'Baba nazarkhar', 'location': (18.5204,73.8567),'Type_of_crime':'Murder', 'Link':'https://timesofindia.indiatimes.com/city/pune/cops-nab-man-driving-stolen-truck-after-2-hour-chase/articleshow/82782353.cms'},\n",
    "{'Criminal': 'Khatar', 'location': (28.7041,77.1025),'Type_of_crime':'Cyber crime', 'Link':'https://www.ndtv.com/delhi-news/delhi-cyber-stalker-bharat-khatar-who-harassed-girls-uploaded-pics-online-arrested-2405339'},\n",
    "{'Criminal': 'Ahsan', 'location': (28.73,77.18),'Type_of_crime':'Murder', 'Link':'https://www.ndtv.com/delhi-news/man-wanted-in-39-criminal-cases-arrested-after-gunfight-in-delhis-seemapuri-police-2407536'},\n",
    "{'Criminal': 'Varun arora', 'location': (28.736,77.1813),'Type_of_crime':'Murder', 'Link':'https://www.ndtv.com/delhi-news/delhi-man-fed-thallium-in-fish-curry-to-in-laws-2-dead-wife-in-hospital-2398840'},\n",
    "{'Criminal': 'sameer', 'location': (28.721,77.1118),'Type_of_crime':'Murder', 'Link':'https://www.ndtv.com/delhi-news/delhi-man-nephew-arrested-for-killing-nepalese-woman-during-robbery-spree-2396035'},\n",
    "{'Criminal': 'Mahesh ', 'location': (28.78,77.1),'Type_of_crime':'Attack', 'Link':'https://www.ndtv.com/delhi-news/two-wanted-men-arrested-following-exchange-of-fire-in-delhis-begumpur-police-2404965'},\n",
    "{'Criminal': 'Sachin waze', 'location': (19.28,72.87),'Type_of_crime':'Terrorism', 'Link':'https://www.ndtv.com/india-news/arrested-policeman-sachin-wazes-office-searched-in-ambani-security-scare-case-report-2392236'},\n",
    "{'Criminal': 'Mukesh kumar', 'location': (17.68,83.21),'Type_of_crime':'Murder', 'Link':''},\n",
    "{'Criminal': 'Babita', 'location': (28.7041,77.1025),'Type_of_crime':'Murder', 'Link':'https://www.ndtv.com/delhi-news/delhi-ride-by-shooting-victims-wife-held-for-conspiring-to-kill-him-2388460'},\n",
    "{'Criminal': 'Preetam rajput', 'location': (23.25,77.41),'Type_of_crime':'Attack', 'Link':'https://www.ndtv.com/india-news/madhya-pradesh-man-chops-off-wifes-hand-leg-suspecting-her-character-bhopal-cops-2387694'},\n",
    "{'Criminal': 'Kumbhar', 'location': (22.260,84.8536),'Type_of_crime':'Murder', 'Link':'https://www.ndtv.com/india-news/sambalpur-odisha-man-gets-life-in-jail-for-killing-wife-with-sword-in-court-2382582'},\n",
    "{'Criminal': 'Gaurav Sharma', 'location': (25.3176,82.97),'Type_of_crime':'Murder', 'Link':'https://www.ndtv.com/india-news/up-hathras-crimes-against-women-gaurav-sharma-man-accused-of-sex-assault-out-on-bail-shoots-dead-womans-father-2381589'},\n",
    "{'Criminal': 'chintamani patel', 'location': (21.1938,81.3509),'Type_of_crime':'Murder', 'Link':'https://www.ndtv.com/india-news/chhattisgarh-woman-40-killed-for-resisting-molestation-attempt-police-2379510'},\n",
    "{'Criminal': 'sarpanch', 'location': (19.9975,73.7898),'Type_of_crime':'Rape', 'Link':'https://www.ndtv.com/india-news/former-village-head-in-maharashtras-palghar-arrested-for-allegedly-raping-8-year-old-report-2377151'},\n",
    "{'Criminal': 'Aravind Kumar', 'location': (25.5941,85.1376),'Type_of_crime':'Rape', 'Link':'https://www.ndtv.com/patna-news/school-principal-in-patna-sentenced-to-death-for-rape-of-student-2371440'},\n",
    "{'Criminal': 'Kisan hariprasad', 'location': (19.0,72.9),'Type_of_crime':'Drugs', 'Link':'https://www.ndtv.com/patna-news/school-principal-in-patna-sentenced-to-death-for-rape-of-student-2371440'},\n",
    "{'Criminal': 'Gulfam', 'location': (28.9845,77.706),'Type_of_crime':'Murder', 'Link':'https://www.ndtv.com/india-news/man-kills-pregnant-wife-four-year-old-daughter-in-baghpat-uttar-pradesh-police-2365921'},\n",
    "{'Criminal': 'Sravan kumar', 'location': (17.385,78.4867),'Type_of_crime':'Murder', 'Link':'https://www.ndtv.com/hyderabad-news/hyderabad-police-rescues-kidnapped-baby-girl-within-24-hours-2360531'},\n",
    "{'Criminal': 'Ashish ahir', 'location': (19.18, 72.87),'Type_of_crime':'Fraud', 'Link':'https://www.ndtv.com/india-news/engineer-turned-clothes-merchant-arrested-for-cheating-over-22-000-women-2354635'},\n",
    "{'Criminal': 'Pradeep kumar mittal', 'location': (28.7,77.1025),'Type_of_crime':'Fraud', 'Link':'https://www.ndtv.com/delhi-news/delhi-man-arrested-for-duping-bank-of-rs-24-13-crore-police-2329778'},\n",
    "{'Criminal': 'Suraj Kumar', 'location': (28.7,77.103),'Type_of_crime':'Murder', 'Link':'https://www.ndtv.com/delhi-news/delhi-man-kills-girlfriends-father-for-refusing-his-marriage-proposal-2335556'},\n",
    "{'Criminal': 'Gunjan', 'location': (21.1458,79.0882),'Type_of_crime':'Murder', 'Link':'https://www.ndtv.com/nagpur-news/nagpur-man-who-met-girlfriend-on-instagram-killed-her-family-claim-cops-2337265'},\n",
    "{'Criminal': 'Durgavati', 'location': (28.7041,77.1025),'Type_of_crime':'Harassment', 'Link':'https://www.ndtv.com/india-news/wife-of-up-engineer-who-abused-50-children-arrested-allegedly-helped-him-2344723'},\n",
    "{'Criminal': 'Vaibhav sharma', 'location': (28.7041,77.1025),'Type_of_crime':'Fraud', 'Link':'https://www.ndtv.com/india-news/man-arrested-for-misappropriating-rs-300-crore-loan-amount-delhi-police-2340559'},\n",
    "{'Criminal': 'Gooty rajesg', 'location': (17.386,78.48),'Type_of_crime':'Murder', 'Link':'https://www.ndtv.com/andhra-pradesh-news/andhra-sbi-employee-snehalatha-19-strangled-and-set-on-fire-ex-boyfriend-arrested-2342879'},\n",
    "{'Criminal': 'Bittu', 'location': (28.7041,77.1025),'Type_of_crime':'Murder', 'Link':'https://www.ndtv.com/delhi-news/man-planned-minor-boys-murder-after-watching-crime-show-delhi-police-2343691'},\n",
    "]\n",
    "crime_locations = [crime['location'] for crime in criminal_data]\n",
    "info_box_template = \"\"\"\n",
    "<dl>\n",
    "<dt>Criminal</dt><dd>{Criminal}</dd>\n",
    "<dt>Crime Type</dt><dd>{Type_of_crime}</dd>\\\n",
    "<dt>News Link</dt><dd>{Link}</dd>\n",
    "</dl>\n",
    "\"\"\"\n",
    "crime_info = [info_box_template.format(**crime) for crime in criminal_data]\n",
    "marker_layer = gmaps.marker_layer(crime_locations, info_box_content=_info)\n",
    "fig = gmaps.figure()\n",
    "fig.add_layer(marker_layer)\n",
    "fig"
   ]
  },
  {
   "cell_type": "code",
   "execution_count": 7,
   "metadata": {},
   "outputs": [
    {
     "data": {
      "application/vnd.jupyter.widget-view+json": {
       "model_id": "c10ce40a44814db4a62fef74b385fd38",
       "version_major": 2,
       "version_minor": 0
      },
      "text/plain": [
       "Figure(layout=FigureLayout(height='420px'))"
      ]
     },
     "metadata": {},
     "output_type": "display_data"
    }
   ],
   "source": [
    "import gmaps\n",
    "gmaps.configure(api_key='')\n",
    "criminal_data = [\n",
    "{'crime_branch':'Andhra pradesh','Email': 'Crimebranchxxxx@gmail.com', 'location': (20.93,77.75),'Phno':'95***23***'},\n",
    "{'crime_branch':'Bihar','Email': 'Crimebranchxxxx@gmail.com', 'location': (25.59,85.13),'Phno':'95***23***'},\n",
    "{'crime_branch':'Arunachal pradesh','Email': 'Crimebranchxxxx@gmail.com', 'location': (27.08,93.60),'Phno':'95***23***'},\n",
    "{'crime_branch':'Assam','Email': 'Crimebranchxxxx@gmail.com', 'location': (26.14,91.78),'Phno':'95***23***'},\n",
    "{'crime_branch':'Chattisgarh','Email': 'Crimebranchxxxx@gmail.com', 'location': (21.25, 81.62),'Phno':'95***23***'},\n",
    "{'crime_branch':'Goa','Email': 'Crimebranchxxxx@gmail.com', 'location': (15.49,73.82),'Phno':'95***23***'},\n",
    "{'crime_branch':'Gujarat','Email': 'Crimebranchxxxx@gmail.com', 'location': (23.21,72.63),'Phno':'95***23***'},\n",
    "{'crime_branch':'Haryana','Email': 'Crimebranchxxxx@gmail.com', 'location': (30.73,76.77),'Phno':'95***23***'},\n",
    "{'crime_branch':'Himachal Pradesh','Email': 'Crimebranchxxxx@gmail.com', 'location': (31.10,77.17),'Phno':'95***23***'},\n",
    "{'crime_branch':'Jharkand','Email': 'Crimebranchxxxx@gmail.com', 'location': (23.34,85.30),'Phno':'95***23***'},\n",
    "{'crime_branch':'Karnataka','Email': 'Crimebranchxxxx@gmail.com', 'location': (12.97,77.59),'Phno':'95***23***'},\n",
    "{'crime_branch':'Kerala','Email': 'Crimebranchxxxx@gmail.com', 'location': (8.52,76.93),'Phno':'95***23***'},\n",
    "{'crime_branch':'Madhya Pradesh','Email': 'Crimebranchxxxx@gmail.com', 'location': (23.25,77.41),'Phno':'95***23***'},\n",
    "{'crime_branch':'Maharashtra','Email': 'Crimebranchxxxx@gmail.com', 'location': (19.07,72.87),'Phno':'95***23***'},\n",
    "{'crime_branch':'Manipur','Email': 'Crimebranchxxxx@gmail.com', 'location': (24.81,93.93),'Phno':'95***23***'},\n",
    "{'crime_branch':'Meghalaya','Email': 'Crimebranchxxxx@gmail.com', 'location': (25.57,91.89),'Phno':'95***23***'},\n",
    "{'crime_branch':'Rajasthan','Email': 'Crimebranchxxxx@gmail.com', 'location': (26.91,75.78),'Phno':'95***23***'},\n",
    "{'crime_branch':'Tamil Nadu','Email': 'Crimebranchxxxx@gmail.com', 'location': (13.08,80.27),'Phno':'95***23***'},\n",
    "{'crime_branch':'Telangana','Email': 'Crimebranchxxxx@gmail.com', 'location': (17.38,78.48),'Phno':'95***23***'},\n",
    "{'crime_branch':'Tripura','Email': 'Crimebranchxxxx@gmail.com', 'location': (23.83,91.28),'Phno':'95***23***'},\n",
    "{'crime_branch':'Uttar Pradesh','Email': 'Crimebranchxxxx@gmail.com', 'location': (26.84,80.94),'Phno':'95***23***'},\n",
    "{'crime_branch':'Uttarakhand','Email': 'Crimebranchxxxx@gmail.com', 'location': (30.31,78.03),'Phno':'95***23***'},\n",
    "{'crime_branch':'West Bengal','Email': 'Crimebranchxxxx@gmail.com', 'location': (22.57,88.56),'Phno':'95***23***'}\n",
    "]\n",
    "crime_locations = [crime['location'] for crime in criminal_data]\n",
    "info_box_template = \"\"\"\n",
    "<dl>\n",
    "<dt>Crime Branch</dt><dd>{crime_branch}</dd>\n",
    "<dt>Email</dt><dd>{Email}</dd>\\\n",
    "<dt>Phone Number</dt><dd>{Phno}</dd>\n",
    "</dl>\n",
    "\"\"\"\n",
    "crime_info = [info_box_template.format(**crime) for crime in criminal_data]\n",
    "marker_layer = gmaps.marker_layer(crime_locations, info_box_content=crime_info)\n",
    "fig = gmaps.figure()\n",
    "fig.add_layer(marker_layer)\n",
    "fig"
   ]
  },
  {
   "cell_type": "code",
   "execution_count": null,
   "metadata": {},
   "outputs": [],
   "source": []
  }
 ],
 "metadata": {
  "kernelspec": {
   "display_name": "Python 3",
   "language": "python",
   "name": "python3"
  },
  "language_info": {
   "codemirror_mode": {
    "name": "ipython",
    "version": 3
   },
   "file_extension": ".py",
   "mimetype": "text/x-python",
   "name": "python",
   "nbconvert_exporter": "python",
   "pygments_lexer": "ipython3",
   "version": "3.8.3"
  }
 },
 "nbformat": 4,
 "nbformat_minor": 4
}
